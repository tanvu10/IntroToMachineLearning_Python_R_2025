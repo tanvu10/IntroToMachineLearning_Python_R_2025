{
 "cells": [
  {
   "cell_type": "markdown",
   "id": "4017f890",
   "metadata": {},
   "source": [
    "## Exercise for Convolutional Neural Networks"
   ]
  },
  {
   "cell_type": "code",
   "execution_count": null,
   "id": "8b130cfc",
   "metadata": {},
   "outputs": [],
   "source": [
    "#Load required packages  -- MIGHT HAVE TO PIP INSTALL \"TORCHINFO\"\n",
    "from ISLP import load_data\n",
    "import torch\n",
    "import torch.nn as nn\n",
    "import torch.nn.functional as F\n",
    "from torch.utils.data import TensorDataset, DataLoader\n",
    "from sklearn.model_selection import train_test_split\n",
    "from sklearn.preprocessing import StandardScaler\n",
    "from sklearn.linear_model import LogisticRegression\n",
    "from sklearn.metrics import classification_report\n",
    "import pandas as pd\n",
    "import numpy as np\n",
    "from IPython.display import Image\n",
    "from torchinfo import summary\n",
    "from torch.optim import RMSprop\n",
    "from torch.utils.data import TensorDataset\n",
    "from pytorch_lightning.loggers import CSVLogger\n",
    "\n",
    "from pytorch_lightning import seed_everything\n",
    "seed_everything(0, workers=True)\n",
    "torch.use_deterministic_algorithms(True, warn_only=True)"
   ]
  },
  {
   "cell_type": "code",
   "execution_count": null,
   "id": "ec569d13",
   "metadata": {},
   "outputs": [],
   "source": [
    "from ISLP.torch.imdb import (load_lookup,\n",
    "                             load_tensor,\n",
    "                             load_sparse,\n",
    "                             load_sequential)\n",
    "from ISLP.torch import (SimpleDataModule,\n",
    "                        SimpleModule,\n",
    "                        ErrorTracker,\n",
    "                        rec_num_workers)\n",
    "\n",
    "from torch.optim import RMSprop\n",
    "from pytorch_lightning.loggers import CSVLogger\n",
    "from pytorch_lightning import Trainer"
   ]
  },
  {
   "cell_type": "code",
   "execution_count": null,
   "id": "26281eab",
   "metadata": {},
   "outputs": [],
   "source": [
    "from torchvision.datasets import CIFAR100\n",
    "\n",
    "(cifar_train, cifar_test) = [CIFAR100(root=\"data\", train=train, download=True) for train in [True, False]]"
   ]
  },
  {
   "cell_type": "code",
   "execution_count": null,
   "id": "0961ac19",
   "metadata": {},
   "outputs": [],
   "source": [
    "import numpy as np \n",
    "import matplotlib.pyplot as plt\n",
    "\n",
    "\n",
    "# --- Basic stats ---\n",
    "print(\"Train set size:\", len(cifar_train))\n",
    "print(\"Test set size:\", len(cifar_test))\n",
    "print(\"Number of classes:\", len(cifar_train.classes))\n",
    "print(\"Example classes:\", cifar_train.classes[:10])\n",
    "\n",
    "# Count samples per class in training set\n",
    "from collections import Counter\n",
    "train_labels = [label for _, label in cifar_train]\n",
    "label_counts = Counter(train_labels)\n",
    "print(\"\\nSamples per class (train):\", label_counts)\n",
    "\n",
    "# --- Visualization: show a grid of example images ---\n",
    "def show_samples(dataset, n=16):\n",
    "    fig, axes = plt.subplots(4, 4, figsize=(8, 8))\n",
    "    for ax in axes.flatten():\n",
    "        idx = np.random.randint(0, len(dataset))\n",
    "        img, label = dataset[idx]\n",
    "        ax.imshow(np.transpose(np.array(img), (0, 1, 2)))\n",
    "        ax.set_title(dataset.classes[label], fontsize=8)\n",
    "        ax.axis(\"off\")\n",
    "    plt.tight_layout()\n",
    "    plt.show()\n",
    "\n",
    "show_samples(cifar_train)\n",
    "\n",
    "# --- Class distribution bar plot ---\n",
    "plt.figure(figsize=(12, 4))\n",
    "plt.bar(range(len(label_counts)), [label_counts[i] for i in range(len(label_counts))])\n",
    "plt.xticks(range(len(label_counts)), cifar_train.classes, rotation=90)\n",
    "plt.title(\"CIFAR-100 Training Set Class Distribution\")\n",
    "plt.xlabel(\"Class\")\n",
    "plt.ylabel(\"Count\")\n",
    "plt.show()"
   ]
  },
  {
   "cell_type": "code",
   "execution_count": null,
   "id": "9321cc62",
   "metadata": {},
   "outputs": [],
   "source": [
    "from torchvision.transforms import ToTensor\n",
    "\n",
    "# create the transform\n",
    "transform = ToTensor()\n",
    "\n",
    "# transform test and train predictors\n",
    "cifar_train_X = torch.stack([transform(x) for x in cifar_train.data])\n",
    "cifar_test_X = torch.stack([transform(x) for x in cifar_test.data])\n",
    "\n",
    "# create test and training datasets\n",
    "cifar_train = TensorDataset(cifar_train_X,\n",
    "                            torch.tensor(cifar_train.targets))\n",
    "cifar_test = TensorDataset(cifar_test_X,\n",
    "                           torch.tensor(cifar_test.targets))"
   ]
  },
  {
   "cell_type": "code",
   "execution_count": null,
   "id": "5322ee73",
   "metadata": {},
   "outputs": [],
   "source": [
    "max_num_workers = rec_num_workers()\n",
    "\n",
    "cifar_dm = SimpleDataModule(cifar_train,\n",
    "                            cifar_test,\n",
    "                            validation=0.2,\n",
    "                            num_workers=max_num_workers,\n",
    "                            batch_size=128)"
   ]
  },
  {
   "cell_type": "code",
   "execution_count": null,
   "id": "e4a6d0f6",
   "metadata": {},
   "outputs": [],
   "source": [
    "class BuildingBlock(nn.Module):\n",
    "    def __init__(self, in_channels,out_channels):\n",
    "        \n",
    "        super(BuildingBlock , self).__init__()\n",
    "        self.conv = nn.Conv2d(in_channels=in_channels,\n",
    "                              out_channels=out_channels,\n",
    "                              kernel_size=(3,3),\n",
    "                              padding='same')\n",
    "        \n",
    "        self.activation = nn.ReLU()\n",
    "        self.pool = nn.MaxPool2d(kernel_size=(2,2))\n",
    "        \n",
    "    def forward(self, x):\n",
    "        return self.pool(self.activation(self.conv(x)))"
   ]
  },
  {
   "cell_type": "code",
   "execution_count": null,
   "id": "3c55de04",
   "metadata": {},
   "outputs": [],
   "source": [
    "class CIFARModel(nn.Module):\n",
    "    def __init__(self):\n",
    "        super(CIFARModel, self).__init__()\n",
    "        sizes = [(3,32),\n",
    "                (32,64),\n",
    "                (64,128),\n",
    "                (128,256)]\n",
    "        self.conv = nn.Sequential(*[BuildingBlock(in_, out_) for in_, out_ in sizes])\n",
    "        self.output = nn.Sequential(nn.Dropout(0.5),\n",
    "                                    nn.Linear(2*2*256, 512),\n",
    "                                    nn.ReLU(),\n",
    "                                    nn.Linear(512, 100))\n",
    "\n",
    "    def forward(self, x):\n",
    "        val = self.conv(x)\n",
    "        val = torch.flatten(val, start_dim=1)\n",
    "        return self.output(val)"
   ]
  },
  {
   "cell_type": "code",
   "execution_count": null,
   "id": "f385877a",
   "metadata": {},
   "outputs": [],
   "source": [
    "# create the model\n",
    "cifar_model = CIFARModel()\n",
    "\n",
    "# describe the model architecture\n",
    "summary(cifar_model, input_data=cifar_train_X, col_names=['input_size', 'output_size', 'num_params'])"
   ]
  },
  {
   "cell_type": "code",
   "execution_count": null,
   "id": "d4d838e4",
   "metadata": {},
   "outputs": [],
   "source": [
    "def summary_plot(results, ax, col='loss', valid_legend='Validation',\n",
    "                 training_legend='Training', ylabel='Loss', fontsize=20):\n",
    "    \n",
    "    # loop through epocs\n",
    "    for (column, color, label) in zip([f'train_{col}_epoch', f'valid_{col}'],\n",
    "                                      ['black', 'red'],\n",
    "                                      [training_legend, valid_legend]):\n",
    "        \n",
    "        # add results to plot\n",
    "        results.plot(x='epoch', y=column, label=label, marker='o', color=color, ax=ax)\n",
    "        \n",
    "    # label axes\n",
    "    ax.set_xlabel('Epoch')\n",
    "    ax.set_ylabel(ylabel)\n",
    "    return ax"
   ]
  },
  {
   "cell_type": "code",
   "execution_count": null,
   "id": "0ba6b51c",
   "metadata": {},
   "outputs": [],
   "source": [
    "# define the optimizer\n",
    "cifar_optimizer = RMSprop(cifar_model.parameters(), lr=0.001)\n",
    "\n",
    "# create module for training\n",
    "cifar_module = SimpleModule.classification(cifar_model,\n",
    "                                    num_classes=100,\n",
    "                                    optimizer=cifar_optimizer)\n",
    "\n",
    "# create logger\n",
    "cifar_logger = CSVLogger('logs', name='CIFAR100')\n",
    "\n",
    "# define the training routine\n",
    "cifar_trainer = Trainer(deterministic=True,\n",
    "                        max_epochs=30,\n",
    "                        logger=cifar_logger,\n",
    "                        enable_progress_bar=False,\n",
    "                        callbacks=[ErrorTracker()])\n",
    "\n",
    "# fit the cnn network\n",
    "cifar_trainer.fit(cifar_module, datamodule=cifar_dm)"
   ]
  },
  {
   "cell_type": "code",
   "execution_count": null,
   "id": "bdf50ffe",
   "metadata": {},
   "outputs": [],
   "source": [
    "# import plotting library\n",
    "import matplotlib.pyplot as plt\n",
    "\n",
    "# read the logs\n",
    "log_path = cifar_logger.experiment.metrics_file_path\n",
    "cifar_results = pd.read_csv(log_path)\n",
    "\n",
    "# plot the training and validation loss per epoch\n",
    "fig, ax = plt.subplots(1, 1, figsize=(6, 6))\n",
    "summary_plot(cifar_results, ax, col='accuracy', ylabel='Accuracy')\n",
    "ax.set_xticks(np.linspace(0, 30, 6).astype(int))\n",
    "ax.set_ylabel('Accuracy')\n",
    "ax.set_ylim([0, 1])\n",
    "plt.show()"
   ]
  },
  {
   "cell_type": "code",
   "execution_count": null,
   "id": "cc5166b9",
   "metadata": {},
   "outputs": [],
   "source": [
    "cifar_trainer.test(cifar_module, datamodule=cifar_dm)"
   ]
  }
 ],
 "metadata": {
  "kernelspec": {
   "display_name": "dl",
   "language": "python",
   "name": "python3"
  },
  "language_info": {
   "codemirror_mode": {
    "name": "ipython",
    "version": 3
   },
   "file_extension": ".py",
   "mimetype": "text/x-python",
   "name": "python",
   "nbconvert_exporter": "python",
   "pygments_lexer": "ipython3",
   "version": "3.8.18"
  }
 },
 "nbformat": 4,
 "nbformat_minor": 5
}
