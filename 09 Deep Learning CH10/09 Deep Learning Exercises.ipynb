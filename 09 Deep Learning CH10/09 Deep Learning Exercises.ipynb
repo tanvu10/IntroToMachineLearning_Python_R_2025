{
 "cells": [
  {
   "cell_type": "markdown",
   "id": "ca49bb6b",
   "metadata": {},
   "source": [
    "# Chapter 10 - Deep Learning\n",
    "\n",
    "The following excercises, code, and explanations are adapted from An Introduction to Statistical Learning with Applications in Python (ISLP) (James, Witten, Hastie, Tibshirani, and Taylor 2023).\n",
    "\n",
    "## Instructor Code\n",
    "\n",
    "Make sure the following packages are installed prior to running code in this notebook:\n",
    "\n",
    "Need a package: (!pip install ISLP)"
   ]
  },
  {
   "cell_type": "code",
   "execution_count": null,
   "id": "af47943d",
   "metadata": {},
   "outputs": [],
   "source": [
    "#Load required packages  -- MIGHT HAVE TO PIP INSTALL \"TORCHINFO\"\n",
    "from ISLP import load_data\n",
    "import torch\n",
    "import torch.nn as nn\n",
    "import torch.nn.functional as F\n",
    "from torch.utils.data import TensorDataset, DataLoader\n",
    "from sklearn.model_selection import train_test_split\n",
    "from sklearn.preprocessing import StandardScaler\n",
    "from sklearn.linear_model import LogisticRegression\n",
    "from sklearn.metrics import classification_report\n",
    "import pandas as pd\n",
    "import numpy as np\n",
    "from IPython.display import Image\n",
    "from torchinfo import summary\n",
    "from torch.optim import RMSprop\n",
    "from torch.utils.data import TensorDataset\n",
    "from pytorch_lightning.loggers import CSVLogger\n",
    "\n",
    "from pytorch_lightning import seed_everything\n",
    "seed_everything(0, workers=True)\n",
    "torch.use_deterministic_algorithms(True, warn_only=True)"
   ]
  },
  {
   "cell_type": "code",
   "execution_count": null,
   "id": "4e23ec29-1d8a-46eb-bc4b-061ebe649d09",
   "metadata": {},
   "outputs": [],
   "source": [
    "from ISLP.torch.imdb import (load_lookup,\n",
    "                             load_tensor,\n",
    "                             load_sparse,\n",
    "                             load_sequential)\n",
    "from ISLP.torch import (SimpleDataModule,\n",
    "                        SimpleModule,\n",
    "                        ErrorTracker,\n",
    "                        rec_num_workers)\n",
    "\n",
    "from torch.optim import RMSprop\n",
    "from pytorch_lightning.loggers import CSVLogger\n",
    "from pytorch_lightning import Trainer"
   ]
  },
  {
   "cell_type": "markdown",
   "id": "12b7b87a",
   "metadata": {},
   "source": [
    "## Exercise for Neural Network.\n",
    "This exercise is adapted from Chapter 10, Exercise 7 in ISLP. \n",
    "\n",
    "This problem invovles the `Default` data set which is part of the `ISLP` package.\n",
    "\n",
    "Fit a neural network to the `Default` data. Use a single hidden layer with 10 untis, and dropout regularization. Have a look at Labs 10.9.1 - 10.9.2 for guidance. Compare the classification performance of your model with that of linear logistic regression."
   ]
  },
  {
   "cell_type": "code",
   "execution_count": null,
   "id": "c828253f",
   "metadata": {},
   "outputs": [],
   "source": [
    "# Load in the data\n",
    "df = load_data(\"Default\")\n",
    "\n",
    "# Convert categorical variables to numeric\n",
    "df['default'] = df['default'].map({'No': 0, 'Yes': 1})\n",
    "df['student'] = df['student'].map({'No': 0, 'Yes': 1})\n",
    "\n",
    "# Split into features and target\n",
    "X = df[['student', 'balance', 'income']].values\n",
    "y = df['default'].values\n",
    "\n",
    "# Normalize features\n",
    "scaler = StandardScaler()\n",
    "X = scaler.fit_transform(X)\n",
    "\n",
    "# Split the data into training and testing sets\n",
    "X_train, X_test, y_train, y_test = train_test_split(X, y, test_size=0.2, random_state=42)\n",
    "\n",
    "# Convert to PyTorch tensors\n",
    "X_train = torch.tensor(X_train, dtype=torch.float32)\n",
    "y_train = torch.tensor(y_train, dtype=torch.float32)\n",
    "X_test = torch.tensor(X_test, dtype=torch.float32)\n",
    "y_test = torch.tensor(y_test, dtype=torch.float32)\n",
    "\n",
    "# Create Tensor Datasets\n",
    "train_data = TensorDataset(X_train, y_train)\n",
    "test_data = TensorDataset(X_test, y_test)\n",
    "\n",
    "# Data loaders\n",
    "train_loader = DataLoader(train_data, batch_size=64, shuffle=True)\n",
    "test_loader = DataLoader(test_data, batch_size=64, shuffle=False)"
   ]
  },
  {
   "cell_type": "code",
   "execution_count": null,
   "id": "84b268dd",
   "metadata": {},
   "outputs": [],
   "source": [
    "df"
   ]
  },
  {
   "cell_type": "code",
   "execution_count": null,
   "id": "d1e5bd42",
   "metadata": {},
   "outputs": [],
   "source": [
    "import matplotlib.pyplot as plt\n",
    "import pandas as pd\n",
    "import seaborn as sns\n",
    "from collections import Counter\n",
    "\n",
    "# --- Basic stats ---\n",
    "print(\"Number of samples:\", len(df))\n",
    "print(\"Number of features:\", df.shape[1] - 1)  # excluding target\n",
    "print(\"Number of classes:\", df['default'].nunique())\n",
    "print(\"\\nClass distribution:\")\n",
    "print(df['default'].value_counts())\n",
    "\n",
    "# --- Percentage of default ---\n",
    "default_rate = df['default'].mean() * 100\n",
    "print(f\"\\nDefault rate: {default_rate:.2f}%\")\n",
    "\n",
    "# --- Class distribution plot ---\n",
    "plt.figure(figsize=(5,4))\n",
    "sns.countplot(x='default', data=df)\n",
    "plt.title('Default Distribution')\n",
    "plt.show()\n",
    "\n",
    "# --- Feature distributions by class ---\n",
    "features = ['balance', 'income', 'student']\n",
    "for col in features:\n",
    "    plt.figure(figsize=(6,4))\n",
    "    if df[col].dtype == 'O' or df[col].nunique() < 10:\n",
    "        sns.countplot(x=col, hue='default', data=df)\n",
    "    else:\n",
    "        sns.histplot(data=df, x=col, hue='default', kde=True, bins=30)\n",
    "    plt.title(f\"{col} by Default Status\")\n",
    "    plt.show()\n",
    "\n",
    "# --- Correlation heatmap ---\n",
    "plt.figure(figsize=(6,4))\n",
    "sns.heatmap(df.corr(), annot=True, cmap='coolwarm', fmt=\".2f\")\n",
    "plt.title('Correlation Matrix')\n",
    "plt.show()\n"
   ]
  },
  {
   "cell_type": "code",
   "execution_count": null,
   "id": "cf22fa71-83bb-4c9a-9b53-37189b858e1d",
   "metadata": {},
   "outputs": [],
   "source": [
    "# Neural Network with PyTorch\n",
    "class Net(nn.Module):\n",
    "    def __init__(self):\n",
    "        super(Net, self).__init__()\n",
    "        self.fc1 = nn.Linear(3, 10)  # 3 input features, 10 in hidden layer\n",
    "        self.dropout = nn.Dropout(0.5)\n",
    "        self.fc2 = nn.Linear(10, 1)  # Output layer\n",
    "\n",
    "    def forward(self, x):\n",
    "        x = F.relu(self.fc1(x))\n",
    "        x = self.dropout(x)\n",
    "        x = torch.sigmoid(self.fc2(x))\n",
    "        return x"
   ]
  },
  {
   "cell_type": "code",
   "execution_count": null,
   "id": "15467d86",
   "metadata": {},
   "outputs": [],
   "source": [
    "# Initialize the network\n",
    "model = Net()\n",
    "\n",
    "# Loss function and optimizer\n",
    "criterion = nn.BCELoss()\n",
    "optimizer = torch.optim.Adam(model.parameters(), lr=0.001)"
   ]
  },
  {
   "cell_type": "code",
   "execution_count": null,
   "id": "6e200ade-bfb0-4591-a3d4-90d74ed3dc2a",
   "metadata": {},
   "outputs": [],
   "source": [
    "# Train the model\n",
    "for epoch in range(100):\n",
    "    for inputs, labels in train_loader:\n",
    "        optimizer.zero_grad()\n",
    "        output = model(inputs)\n",
    "        loss = criterion(output.squeeze(), labels)\n",
    "        loss.backward()\n",
    "        optimizer.step()"
   ]
  },
  {
   "cell_type": "code",
   "execution_count": null,
   "id": "527be571-3c4e-4dca-9696-5dd35b690987",
   "metadata": {},
   "outputs": [],
   "source": [
    "# Evaluate the model\n",
    "model.eval()\n",
    "with torch.no_grad():\n",
    "    y_pred = model(X_test).squeeze()\n",
    "    y_pred = (y_pred >= 0.5).float()\n",
    "    print(\"Neural Network Performance:\")\n",
    "    print(classification_report(y_test.numpy(), y_pred.numpy()))"
   ]
  },
  {
   "cell_type": "code",
   "execution_count": null,
   "id": "3f41a17e-2a13-4e26-9439-b9335c1f2de3",
   "metadata": {},
   "outputs": [],
   "source": [
    "# Logistic Regression with scikit-learn\n",
    "log_reg = LogisticRegression()\n",
    "log_reg.fit(X_train.numpy(), y_train.numpy())\n",
    "lr_predictions = log_reg.predict(X_test.numpy())"
   ]
  },
  {
   "cell_type": "code",
   "execution_count": null,
   "id": "3d33ae58-8d9f-478a-bfd9-d40253ef0075",
   "metadata": {},
   "outputs": [],
   "source": [
    "# Evaluate Logistic Regression\n",
    "print(\"Logistic Regression Performance:\")\n",
    "print(classification_report(y_test.numpy(), lr_predictions))"
   ]
  },
  {
   "cell_type": "markdown",
   "id": "690fa0ee-0f89-4c8b-ae1d-71318add35f8",
   "metadata": {},
   "source": [
    "## Recurrent Neural Networks (RNN)"
   ]
  },
  {
   "cell_type": "code",
   "execution_count": null,
   "id": "33b48ca9-8d6c-4c48-8d8a-6d5952578c98",
   "metadata": {},
   "outputs": [],
   "source": [
    "# load in the movie data\n",
    "(imdb_seq_train, imdb_seq_test) = load_sequential(root='data/IMDB')\n",
    "padded_sample = np.asarray(imdb_seq_train.tensors[0][0])\n",
    "sample_review = padded_sample[padded_sample > 0][:12]\n",
    "sample_review"
   ]
  },
  {
   "cell_type": "code",
   "execution_count": null,
   "id": "bd38cb88-5e9c-4d12-90da-f7fbaa9a8445",
   "metadata": {},
   "outputs": [],
   "source": [
    "# load data in as a tensor\n",
    "max_num_workers = 10\n",
    "\n",
    "(imdb_train, imdb_test) = load_tensor(root='data/IMDB')\n",
    "imdb_dm = SimpleDataModule(imdb_train,\n",
    "                           imdb_test,\n",
    "                           validation=2000,\n",
    "                           num_workers=min(6, max_num_workers),\n",
    "                           batch_size=512)"
   ]
  },
  {
   "cell_type": "code",
   "execution_count": null,
   "id": "8c342be6-bdb1-4ff7-8725-88202a107b21",
   "metadata": {},
   "outputs": [],
   "source": [
    "class IMDBModel(nn.Module):\n",
    "\n",
    "    def __init__(self, input_size):\n",
    "        super(IMDBModel, self).__init__()\n",
    "        self.dense1 = nn.Linear(input_size, 16)\n",
    "        self.activation = nn.ReLU()\n",
    "        self.dense2 = nn.Linear(16, 16)\n",
    "        self.output = nn.Linear(16, 1)\n",
    "\n",
    "    def forward(self, x):\n",
    "        val = x\n",
    "        for _map in [self.dense1,\n",
    "                     self.activation,\n",
    "                     self.dense2,\n",
    "                     self.activation,\n",
    "                     self.output]:\n",
    "            val = _map(val)\n",
    "        \n",
    "        return torch.flatten(val)\n"
   ]
  },
  {
   "cell_type": "code",
   "execution_count": null,
   "id": "6ff80948-1263-4a3d-a85c-0bb777bcfe40",
   "metadata": {},
   "outputs": [],
   "source": [
    "# create the model\n",
    "imdb_model = IMDBModel(imdb_test.tensors[0].size()[1])\n",
    "\n",
    "# describe the model architecture\n",
    "summary(imdb_model, input_size=imdb_test.tensors[0].size(), col_names=['input_size', 'output_size', 'num_params'])"
   ]
  },
  {
   "cell_type": "code",
   "execution_count": null,
   "id": "a98cee7c-4316-44f0-afbc-d2a964b51c89",
   "metadata": {},
   "outputs": [],
   "source": [
    "# define the optimizer\n",
    "imdb_optimizer = RMSprop(imdb_model.parameters(), lr=0.001)\n",
    "\n",
    "# create module for training\n",
    "imdb_module = SimpleModule.binary_classification(imdb_model, optimizer=imdb_optimizer)"
   ]
  },
  {
   "cell_type": "code",
   "execution_count": null,
   "id": "3084c455-32c6-49fa-b5a0-2be2ce02260d",
   "metadata": {},
   "outputs": [],
   "source": [
    "# create logger\n",
    "imdb_logger = CSVLogger('logs', name='IMDB')\n",
    "\n",
    "# define the training routine\n",
    "imdb_trainer = Trainer(deterministic=True,\n",
    "                       max_epochs=30,\n",
    "                       logger=imdb_logger,\n",
    "                       enable_progress_bar=False,\n",
    "                       callbacks=[ErrorTracker()])\n",
    "\n",
    "# train the model\n",
    "imdb_trainer.fit(imdb_module, datamodule=imdb_dm)\n",
    "\n",
    "# show testing results\n",
    "test_results = imdb_trainer.test(imdb_module, datamodule=imdb_dm)\n",
    "test_results"
   ]
  },
  {
   "cell_type": "code",
   "execution_count": null,
   "id": "95c3a030",
   "metadata": {},
   "outputs": [],
   "source": []
  }
 ],
 "metadata": {
  "kernelspec": {
   "display_name": "dl",
   "language": "python",
   "name": "python3"
  },
  "language_info": {
   "codemirror_mode": {
    "name": "ipython",
    "version": 3
   },
   "file_extension": ".py",
   "mimetype": "text/x-python",
   "name": "python",
   "nbconvert_exporter": "python",
   "pygments_lexer": "ipython3",
   "version": "3.8.18"
  }
 },
 "nbformat": 4,
 "nbformat_minor": 5
}
