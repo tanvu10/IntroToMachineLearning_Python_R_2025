{
 "cells": [
  {
   "cell_type": "markdown",
   "id": "8c78ecec-bbc5-4db1-b4a1-37b9566d583b",
   "metadata": {},
   "source": [
    "# Chapter 00 - Getting Started with Python and Jupyter Notebooks\n",
    "\n",
    "In some applications, it's more common to work with Python scripts, we're going to work with a Jupyter Notebook instead. Jupyter notebooks are more interactive, because you can run each line of code manually, and immediately see the result, before moving onto the next line of code. Python scripts are files with self-contained lines of code that are meant to be run automatically without any manual intervention - then you can see all the results at the end. Jupyter Notebooks are just a special type of file that let's you write and run lines of Python code AND write notes about your code or results.  A Jupyter notebook is made up of (mainly) two type of **cells**: **code cells** and **Markdown cells** - which are just blocks of either code or text.  "
   ]
  },
  {
   "cell_type": "markdown",
   "id": "56209b6a-9321-4557-9f22-68e9b6d0dcee",
   "metadata": {},
   "source": [
    "### Part 1: Running Code\n",
    "\n",
    "The cell below is our first code cell - we can only run code from code cells. To run the code below, you can click the triangle symbol in the bar at the top of the window. Or you can click the grey part of the cell such that your cursor appears in the grey box and then hit Ctrl+Enter on PC or Cmd+Enter on Mac. Try it with the code cell below!"
   ]
  },
  {
   "cell_type": "code",
   "execution_count": null,
   "id": "fc034ab5-b8c0-4eef-b89e-226b9725875c",
   "metadata": {},
   "outputs": [],
   "source": [
    "2 + 2"
   ]
  },
  {
   "cell_type": "markdown",
   "id": "0448ad97-9c77-4dd0-9636-434d68738fae",
   "metadata": {},
   "source": [
    "### Part 2: Installing Modules\n",
    "Most of the commonly used Python Modules (sometimes called packages) are already installed including `numpy`, `pandas`, `scikit-learn`, etc. One extra module we'll need throughout this course is the `ISLP` package which provides all datasets used in the textbook and more.  Since we're going to use these datasets in this course, we need to install this package. Since we will need a few other packages, we will install them all at once using the requirements text file.  "
   ]
  },
  {
   "cell_type": "code",
   "execution_count": null,
   "id": "ad15318b-37e7-4621-9682-567d05f27a25",
   "metadata": {},
   "outputs": [],
   "source": [
    "# Install necessary packages with a requirements.txt file (may take a few minutes)\n",
    "!pip install -r requirements.txt"
   ]
  },
  {
   "cell_type": "markdown",
   "id": "57d4ea07-66e1-43c0-ad9a-88e05850a3a7",
   "metadata": {},
   "source": [
    "### Part 3: Importing Modules\n",
    "Once a module is installed, we cannot use it until it is imported. To import a module, we use the following structure: `import package_name`.  To import the `ISLP` package, we use the following code."
   ]
  },
  {
   "cell_type": "code",
   "execution_count": null,
   "id": "7262fca5-ea90-4c14-b3e9-931740164700",
   "metadata": {},
   "outputs": [],
   "source": [
    "# Import the ISLP Module\n",
    "import ISLP"
   ]
  },
  {
   "cell_type": "markdown",
   "id": "7938aee5-1272-49bc-ae8d-0d662346d08b",
   "metadata": {},
   "source": [
    "Another module we'll use later in the course to read in and work with data is the `pandas` module.   This is a very widely used module, especially for data scientists.  This package is typically aliased under the name `pd`.  You can think of this as a nickname or shortcut so that you don't have to type out `pandas` every time you use the package. To alias packages, we use the following structure: `import package_name as pd`.  We do this with the `pandas` package below."
   ]
  },
  {
   "cell_type": "code",
   "execution_count": null,
   "id": "6aa1f576-793a-493f-80e4-599f4fe7ecce",
   "metadata": {},
   "outputs": [],
   "source": [
    "# Import the pandas package and alias it as pd\n",
    "import pandas as pd"
   ]
  },
  {
   "cell_type": "markdown",
   "id": "276e7f06-c061-4801-b75e-eb5f41ca5e59",
   "metadata": {},
   "source": [
    "### Load Data from the `ISLP` Package\n",
    "To load data from a package and store it in the variable named `df`, we use the following structure: `df = package_name.load_data(\"dataset_name\")`. Let's try this with the \"OJ\" dataset from the `ISLP` package. We'll use this data later in the course."
   ]
  },
  {
   "cell_type": "code",
   "execution_count": null,
   "id": "f99cc320-7b27-484e-b230-84fdb8fbd3e0",
   "metadata": {},
   "outputs": [],
   "source": [
    "# load OJ data\n",
    "df = ISLP.load_data(\"OJ\")"
   ]
  },
  {
   "cell_type": "markdown",
   "id": "35b8cfde-4717-4451-baf3-6e143224c3a6",
   "metadata": {},
   "source": [
    "To get a preview of the data, we can use `head()`.  This will print the first 5 rows of our data so we can get an idea of what variables we have,"
   ]
  },
  {
   "cell_type": "code",
   "execution_count": null,
   "id": "083d27b6-8ad7-4c11-ab6d-d336d652dc36",
   "metadata": {
    "scrolled": true
   },
   "outputs": [],
   "source": [
    "# Preview data\n",
    "df.head()"
   ]
  },
  {
   "cell_type": "markdown",
   "id": "598c4f1f-e297-4b61-a0b4-ee3b62270cf7",
   "metadata": {},
   "source": [
    "In practice, your data will likely not come from Python packages.  Instead, you'll want to read in data from an separate file, like a .csv file.  We will not cover reading in data files in this course. See the following [LinkedIn Learning](https://www.linkedin.com/learning/pandas-essential-training/using-read-csv?resume=false&u=57888345) video for more information."
   ]
  }
 ],
 "metadata": {
  "kernelspec": {
   "display_name": "Python 3 (ipykernel)",
   "language": "python",
   "name": "python3"
  },
  "language_info": {
   "codemirror_mode": {
    "name": "ipython",
    "version": 3
   },
   "file_extension": ".py",
   "mimetype": "text/x-python",
   "name": "python",
   "nbconvert_exporter": "python",
   "pygments_lexer": "ipython3",
   "version": "3.12.7"
  }
 },
 "nbformat": 4,
 "nbformat_minor": 5
}
