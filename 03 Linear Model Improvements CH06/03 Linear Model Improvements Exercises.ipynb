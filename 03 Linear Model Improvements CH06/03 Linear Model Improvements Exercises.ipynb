{
 "cells": [
  {
   "cell_type": "markdown",
   "id": "4f6df3dc",
   "metadata": {},
   "source": [
    "# Chapter 6 - Linear Model Selection and Regularization\n",
    "\n",
    "The following exercises, code, and explanations are adapted from An Introduction to Statistical Learning with Applications in Python (ISLP) (James, Witten, Hastie, Tibshirani, and Taylor 2023).\n",
    "\n",
    "Make sure the following packages are installed prior to running code in this notebook:\n",
    "- `numpy`\n",
    "- `pandas`\n",
    "- `matplotlib`\n",
    "- `sklearn`\n",
    "- `itertools`\n",
    "- `os`\n",
    "- `warnings`\n",
    "\n",
    "### 1) Import Packages \n",
    "Please note that the example below focuses on the more applied side of the chapter. Below example primarily comes from Exercise #8 as shown in the textbook, but with minor modifications that include all parts of the model selection covered in this chapter."
   ]
  },
  {
   "cell_type": "code",
   "execution_count": 41,
   "id": "b0570648",
   "metadata": {},
   "outputs": [],
   "source": [
    "import os\n",
    "\n",
    "import numpy as np\n",
    "import matplotlib.pyplot as plt\n",
    "import pandas as pd\n",
    "\n",
    "import itertools\n",
    "\n",
    "from sklearn.preprocessing import scale\n",
    "from sklearn.decomposition import PCA\n",
    "from sklearn import linear_model\n",
    "from sklearn.model_selection import cross_val_predict\n",
    "from sklearn.metrics import mean_squared_error\n",
    "from sklearn.cross_decomposition import PLSRegression\n",
    "import warnings\n",
    "warnings.filterwarnings('ignore') "
   ]
  },
  {
   "cell_type": "markdown",
   "id": "2b792a18",
   "metadata": {},
   "source": [
    "Before we start our analysis, let's begin by defining several user-defined functions for model selection.\n",
    "### (1) Best Subset Selection"
   ]
  },
  {
   "cell_type": "code",
   "execution_count": 42,
   "id": "3cec54e9",
   "metadata": {},
   "outputs": [],
   "source": [
    "# Determines best model of size K\n",
    "# y is a vector for the dependent variable (response)\n",
    "# X is a dataframe with each column representing a different independent variable (predictors)\n",
    "# K = number of features\n",
    "def bestModel(y, X, K):\n",
    "    results = []\n",
    "    results2 = []\n",
    "\n",
    "    # gets RSS for each K combo of variables from X\n",
    "    for c in itertools.combinations(X.columns, K):\n",
    "        results.append(getRSS(y, X, c))\n",
    "\n",
    "    for c in itertools.combinations(X.columns, K):\n",
    "        results2.append(getRSS(y, X, c))\n",
    "\n",
    "    model_all = pd.DataFrame(results)\n",
    "    best_model = model_all.iloc[model_all[\"RSS\"].astype('float64').idxmin()]\n",
    "    return best_model"
   ]
  },
  {
   "cell_type": "markdown",
   "id": "38c3f5e3",
   "metadata": {},
   "source": [
    "### (2) Forward Selection"
   ]
  },
  {
   "cell_type": "code",
   "execution_count": 43,
   "id": "156af742",
   "metadata": {},
   "outputs": [],
   "source": [
    "# Performs forward stepwise regression, stores and returns results from each step in a dataframe\n",
    "# y is a vector for the dependent variable (response)\n",
    "# X is a dataframe with each column representing a different independent variable (predictors)\n",
    "def forward_stepwise(y, X):\n",
    "    results = []\n",
    "    columns = X.columns.values\n",
    "    currentVars = []\n",
    "    for i in range(len(X.columns)):\n",
    "        resultsTemp = []\n",
    "        for newVariable in columns:\n",
    "            model = getRSS(y, X, currentVars + [newVariable])\n",
    "            model.update({'var': newVariable})\n",
    "            resultsTemp.append(model)\n",
    "        current_models = pd.DataFrame(resultsTemp)\n",
    "        bestNewVariable = current_models.loc[current_models[\"RSS\"].astype('float64').idxmin(), 'var']\n",
    "        currentVars.append(bestNewVariable)\n",
    "        results.append(current_models.iloc[current_models[\"RSS\"].astype('float64').idxmin()])\n",
    "        columns = np.delete(columns, np.argwhere(columns == bestNewVariable))\n",
    "    return pd.DataFrame(results).reset_index()"
   ]
  },
  {
   "cell_type": "markdown",
   "id": "063bcdfc",
   "metadata": {},
   "source": [
    "### (3) Backward Selection"
   ]
  },
  {
   "cell_type": "code",
   "execution_count": 44,
   "id": "ffba9e3f",
   "metadata": {},
   "outputs": [],
   "source": [
    "#Performs backward stepwise regression, stores and returns results from each step in a dataframe\n",
    "# y is a vector for the dependent variable (response)\n",
    "# X is a dataframe with each column representing a different independent variable (predictors)\n",
    "def backward_stepwise(y, X):\n",
    "    results = []\n",
    "    currentVars = X.columns.values\n",
    "\n",
    "    fullModel = getRSS(y, X, X.columns)\n",
    "    fullModel.update({'var': 'n/a'})\n",
    "    results.insert(0, pd.DataFrame([fullModel, fullModel]).iloc[\n",
    "        0])  # necessary to wrap it as a DataFrame row so it plays nice with the return statement\n",
    "    for i in range(len(X.columns) - 1):\n",
    "        resultsTemp = []\n",
    "        for newVariable in currentVars:\n",
    "            newVars = currentVars[np.where(currentVars != newVariable)]\n",
    "            model = getRSS(y, X, newVars)\n",
    "            model.update({'var': newVariable})\n",
    "            resultsTemp.append(model)\n",
    "        current_models = pd.DataFrame(resultsTemp)\n",
    "        bestNewVariable = current_models.loc[current_models[\"RSS\"].astype('float64').idxmin(), 'var']\n",
    "        currentVars = currentVars[np.where(currentVars != bestNewVariable)]\n",
    "        results.insert(0, current_models.iloc[current_models[\"RSS\"].astype('float64').idxmin()])\n",
    "    return pd.DataFrame(results).reset_index()"
   ]
  },
  {
   "cell_type": "markdown",
   "id": "caf12eb7",
   "metadata": {},
   "source": [
    "### (4) Output Model Score"
   ]
  },
  {
   "cell_type": "code",
   "execution_count": 45,
   "id": "cb2b0bf9",
   "metadata": {},
   "outputs": [],
   "source": [
    "def getRSS(y, X, feature_list):\n",
    "    model = linear_model.LinearRegression().fit(X[list(feature_list)], y)\n",
    "    predict = model.predict(X[list(feature_list)])\n",
    "    RSS = ((predict - y) ** 2).sum()\n",
    "    return {'Features': feature_list, 'Model': model, \"RSS\": RSS.astype('float64'),\n",
    "            'R^2': model.score(X[list(feature_list)], y)}"
   ]
  },
  {
   "cell_type": "markdown",
   "id": "17810e12",
   "metadata": {},
   "source": [
    "(a) Creat a random number and use its `normal( )` method to generate a predictor $X$ of length $n = 100$, as well as a noise vector $\\epsilon$ of length $n = 100$."
   ]
  },
  {
   "cell_type": "markdown",
   "id": "aedc7dff",
   "metadata": {},
   "source": [
    "Note that We begin by creating our simulated dataset."
   ]
  },
  {
   "cell_type": "code",
   "execution_count": 46,
   "id": "ad294ab9",
   "metadata": {},
   "outputs": [],
   "source": [
    "np.random.seed(921101) #set seeds\n",
    "X = pd.DataFrame(np.random.normal(size=100), columns=[\"1\"])\n",
    "# Generate random errors from standard normal\n",
    "epsilon = pd.DataFrame(np.random.normal(size=100, scale=5), columns=[\"1\"])"
   ]
  },
  {
   "cell_type": "code",
   "execution_count": 47,
   "id": "f277d9c2",
   "metadata": {},
   "outputs": [
    {
     "data": {
      "text/html": [
       "<div>\n",
       "<style scoped>\n",
       "    .dataframe tbody tr th:only-of-type {\n",
       "        vertical-align: middle;\n",
       "    }\n",
       "\n",
       "    .dataframe tbody tr th {\n",
       "        vertical-align: top;\n",
       "    }\n",
       "\n",
       "    .dataframe thead th {\n",
       "        text-align: right;\n",
       "    }\n",
       "</style>\n",
       "<table border=\"1\" class=\"dataframe\">\n",
       "  <thead>\n",
       "    <tr style=\"text-align: right;\">\n",
       "      <th></th>\n",
       "      <th>1</th>\n",
       "    </tr>\n",
       "  </thead>\n",
       "  <tbody>\n",
       "    <tr>\n",
       "      <th>0</th>\n",
       "      <td>-1.634182</td>\n",
       "    </tr>\n",
       "    <tr>\n",
       "      <th>1</th>\n",
       "      <td>-1.176689</td>\n",
       "    </tr>\n",
       "    <tr>\n",
       "      <th>2</th>\n",
       "      <td>0.254375</td>\n",
       "    </tr>\n",
       "    <tr>\n",
       "      <th>3</th>\n",
       "      <td>-0.063418</td>\n",
       "    </tr>\n",
       "    <tr>\n",
       "      <th>4</th>\n",
       "      <td>-0.684624</td>\n",
       "    </tr>\n",
       "    <tr>\n",
       "      <th>5</th>\n",
       "      <td>0.268141</td>\n",
       "    </tr>\n",
       "    <tr>\n",
       "      <th>6</th>\n",
       "      <td>0.090110</td>\n",
       "    </tr>\n",
       "    <tr>\n",
       "      <th>7</th>\n",
       "      <td>0.666177</td>\n",
       "    </tr>\n",
       "    <tr>\n",
       "      <th>8</th>\n",
       "      <td>-1.056040</td>\n",
       "    </tr>\n",
       "    <tr>\n",
       "      <th>9</th>\n",
       "      <td>0.127226</td>\n",
       "    </tr>\n",
       "  </tbody>\n",
       "</table>\n",
       "</div>"
      ],
      "text/plain": [
       "          1\n",
       "0 -1.634182\n",
       "1 -1.176689\n",
       "2  0.254375\n",
       "3 -0.063418\n",
       "4 -0.684624\n",
       "5  0.268141\n",
       "6  0.090110\n",
       "7  0.666177\n",
       "8 -1.056040\n",
       "9  0.127226"
      ]
     },
     "execution_count": 47,
     "metadata": {},
     "output_type": "execute_result"
    }
   ],
   "source": [
    "X.head(10)"
   ]
  },
  {
   "cell_type": "code",
   "execution_count": 48,
   "id": "d42c09a1",
   "metadata": {},
   "outputs": [
    {
     "data": {
      "text/html": [
       "<div>\n",
       "<style scoped>\n",
       "    .dataframe tbody tr th:only-of-type {\n",
       "        vertical-align: middle;\n",
       "    }\n",
       "\n",
       "    .dataframe tbody tr th {\n",
       "        vertical-align: top;\n",
       "    }\n",
       "\n",
       "    .dataframe thead th {\n",
       "        text-align: right;\n",
       "    }\n",
       "</style>\n",
       "<table border=\"1\" class=\"dataframe\">\n",
       "  <thead>\n",
       "    <tr style=\"text-align: right;\">\n",
       "      <th></th>\n",
       "      <th>1</th>\n",
       "    </tr>\n",
       "  </thead>\n",
       "  <tbody>\n",
       "    <tr>\n",
       "      <th>0</th>\n",
       "      <td>2.730751</td>\n",
       "    </tr>\n",
       "    <tr>\n",
       "      <th>1</th>\n",
       "      <td>-4.376324</td>\n",
       "    </tr>\n",
       "    <tr>\n",
       "      <th>2</th>\n",
       "      <td>-5.126164</td>\n",
       "    </tr>\n",
       "    <tr>\n",
       "      <th>3</th>\n",
       "      <td>-5.217158</td>\n",
       "    </tr>\n",
       "    <tr>\n",
       "      <th>4</th>\n",
       "      <td>-2.300488</td>\n",
       "    </tr>\n",
       "    <tr>\n",
       "      <th>5</th>\n",
       "      <td>0.738908</td>\n",
       "    </tr>\n",
       "    <tr>\n",
       "      <th>6</th>\n",
       "      <td>2.074685</td>\n",
       "    </tr>\n",
       "    <tr>\n",
       "      <th>7</th>\n",
       "      <td>-9.858959</td>\n",
       "    </tr>\n",
       "    <tr>\n",
       "      <th>8</th>\n",
       "      <td>3.277119</td>\n",
       "    </tr>\n",
       "    <tr>\n",
       "      <th>9</th>\n",
       "      <td>4.665374</td>\n",
       "    </tr>\n",
       "  </tbody>\n",
       "</table>\n",
       "</div>"
      ],
      "text/plain": [
       "          1\n",
       "0  2.730751\n",
       "1 -4.376324\n",
       "2 -5.126164\n",
       "3 -5.217158\n",
       "4 -2.300488\n",
       "5  0.738908\n",
       "6  2.074685\n",
       "7 -9.858959\n",
       "8  3.277119\n",
       "9  4.665374"
      ]
     },
     "execution_count": 48,
     "metadata": {},
     "output_type": "execute_result"
    }
   ],
   "source": [
    "epsilon.head(10)"
   ]
  },
  {
   "cell_type": "markdown",
   "id": "4602e0b9",
   "metadata": {},
   "source": [
    "(b) Generate a response vector $Y$ of length $n = 100$ according to the model \n",
    "$$Y=\\beta_{0}+\\beta_{1}X+\\beta_{2}X^2+\\beta_{3}X^3+\\epsilon,$$\n",
    "where $\\beta_{0}$, $\\beta_{1}$, $\\beta_{2}$ and $\\beta_{3}$ are constant or your choice."
   ]
  },
  {
   "cell_type": "markdown",
   "id": "e17d9aaa",
   "metadata": {},
   "source": [
    "Here, based on the above requirement, we set all coefficients to be the value of 5."
   ]
  },
  {
   "cell_type": "code",
   "execution_count": 49,
   "id": "b86581f6",
   "metadata": {},
   "outputs": [],
   "source": [
    "y = X.applymap(lambda x: (5 + 5 * x + 5 * (x ** 2) + 5 * (x ** 3)))  # Transforms X to y using an inline function\n",
    "y = y + epsilon  # Adds normally distributed noise (error term)"
   ]
  },
  {
   "cell_type": "code",
   "execution_count": 50,
   "id": "1667a91c",
   "metadata": {},
   "outputs": [
    {
     "data": {
      "text/html": [
       "<div>\n",
       "<style scoped>\n",
       "    .dataframe tbody tr th:only-of-type {\n",
       "        vertical-align: middle;\n",
       "    }\n",
       "\n",
       "    .dataframe tbody tr th {\n",
       "        vertical-align: top;\n",
       "    }\n",
       "\n",
       "    .dataframe thead th {\n",
       "        text-align: right;\n",
       "    }\n",
       "</style>\n",
       "<table border=\"1\" class=\"dataframe\">\n",
       "  <thead>\n",
       "    <tr style=\"text-align: right;\">\n",
       "      <th></th>\n",
       "      <th>1</th>\n",
       "    </tr>\n",
       "  </thead>\n",
       "  <tbody>\n",
       "    <tr>\n",
       "      <th>0</th>\n",
       "      <td>-8.908230</td>\n",
       "    </tr>\n",
       "    <tr>\n",
       "      <th>1</th>\n",
       "      <td>-6.482984</td>\n",
       "    </tr>\n",
       "    <tr>\n",
       "      <th>2</th>\n",
       "      <td>1.551547</td>\n",
       "    </tr>\n",
       "    <tr>\n",
       "      <th>3</th>\n",
       "      <td>-0.515412</td>\n",
       "    </tr>\n",
       "    <tr>\n",
       "      <th>4</th>\n",
       "      <td>0.015491</td>\n",
       "    </tr>\n",
       "    <tr>\n",
       "      <th>5</th>\n",
       "      <td>7.535504</td>\n",
       "    </tr>\n",
       "    <tr>\n",
       "      <th>6</th>\n",
       "      <td>7.569490</td>\n",
       "    </tr>\n",
       "    <tr>\n",
       "      <th>7</th>\n",
       "      <td>2.169109</td>\n",
       "    </tr>\n",
       "    <tr>\n",
       "      <th>8</th>\n",
       "      <td>2.684430</td>\n",
       "    </tr>\n",
       "    <tr>\n",
       "      <th>9</th>\n",
       "      <td>10.392732</td>\n",
       "    </tr>\n",
       "  </tbody>\n",
       "</table>\n",
       "</div>"
      ],
      "text/plain": [
       "           1\n",
       "0  -8.908230\n",
       "1  -6.482984\n",
       "2   1.551547\n",
       "3  -0.515412\n",
       "4   0.015491\n",
       "5   7.535504\n",
       "6   7.569490\n",
       "7   2.169109\n",
       "8   2.684430\n",
       "9  10.392732"
      ]
     },
     "execution_count": 50,
     "metadata": {},
     "output_type": "execute_result"
    }
   ],
   "source": [
    "y.head(10)"
   ]
  },
  {
   "cell_type": "markdown",
   "id": "88808385",
   "metadata": {},
   "source": [
    "(c) Use Best subset selection to select a model containing $X$, $X^2$ $\\dots$ $X^{10}$. What is the model according to $C_{p}$? Report the coefficents of the model obtained."
   ]
  },
  {
   "cell_type": "code",
   "execution_count": 51,
   "id": "457b3bad",
   "metadata": {},
   "outputs": [
    {
     "name": "stdout",
     "output_type": "stream",
     "text": [
      "          X1        X2         X3         X4          X5            X6  \\\n",
      "0  -1.634182  2.670550  -4.364165   7.131839  -11.654721  1.904593e+01   \n",
      "1  -1.176689  1.384597  -1.629240   1.917109   -2.255841  2.654423e+00   \n",
      "2   0.254375  0.064707   0.016460   0.004187    0.001065  2.709259e-04   \n",
      "3  -0.063418  0.004022  -0.000255   0.000016   -0.000001  6.505213e-08   \n",
      "4  -0.684624  0.468710  -0.320890   0.219689   -0.150404  1.029705e-01   \n",
      "..       ...       ...        ...        ...         ...           ...   \n",
      "95 -1.288776  1.660944  -2.140584   2.758734   -3.555390  4.582101e+00   \n",
      "96 -1.079471  1.165258  -1.257862   1.357826   -1.465733  1.582217e+00   \n",
      "97  2.761383  7.625237  21.056203  58.144246  160.558547  4.433637e+02   \n",
      "98  0.597858  0.357434   0.213695   0.127759    0.076382  4.566544e-02   \n",
      "99 -0.722149  0.521499  -0.376600   0.271961   -0.196396  1.418273e-01   \n",
      "\n",
      "              X7            X8            X9           X10  \n",
      "0  -3.112452e+01  5.086312e+01 -8.311959e+01  1.358325e+02  \n",
      "1  -3.123431e+00  3.675307e+00 -4.324693e+00  5.088819e+00  \n",
      "2   6.891689e-05  1.753076e-05  4.459394e-06  1.134360e-06  \n",
      "3  -4.125454e-09  2.616267e-10 -1.659175e-11  1.052210e-12  \n",
      "4  -7.049607e-02  4.826330e-02 -3.304222e-02  2.262149e-02  \n",
      "..           ...           ...           ...           ...  \n",
      "95 -5.905302e+00  7.610612e+00 -9.808375e+00  1.264080e+01  \n",
      "96 -1.707957e+00  1.843690e+00 -1.990210e+00  2.148375e+00  \n",
      "97  1.224297e+03  3.380753e+03  9.335556e+03  2.577905e+04  \n",
      "98  2.730144e-02  1.632238e-02  9.758463e-03  5.834173e-03  \n",
      "99 -1.024204e-01  7.396279e-02 -5.341214e-02  3.857151e-02  \n",
      "\n",
      "[100 rows x 10 columns]\n"
     ]
    }
   ],
   "source": [
    "# Adds columns to X (data frame): X^2, X^3, ..., X^10\n",
    "for i in range(2, 11):\n",
    "    X.insert(loc=i - 1, column=str(i), value=X.iloc[:, 0] ** i)\n",
    "\n",
    "\n",
    "#need to rename the column names of X first\n",
    "dict = {'1': 'X1',\n",
    "        '2': 'X2',\n",
    "        '3': 'X3',\n",
    "        '4': 'X4',\n",
    "        '5': 'X5',\n",
    "        '6': 'X6',\n",
    "        '7': 'X7',\n",
    "        '8': 'X8',\n",
    "        '9': 'X9',\n",
    "        '10': 'X10',}\n",
    " \n",
    "# call rename () method\n",
    "X.rename(columns=dict,\n",
    "          inplace=True)\n",
    "print(X)"
   ]
  },
  {
   "cell_type": "code",
   "execution_count": 52,
   "id": "6c72e9f1",
   "metadata": {},
   "outputs": [],
   "source": [
    "# Constructs empty data frame with just column headers\n",
    "models_bestsub = pd.DataFrame(columns=[\"RSS\", \"Model\", \"var_count\", \"R^2\", \"Features\"])\n",
    "\n",
    "# Determines and stores the best model for each number of variables\n",
    "# ie: first iteration finds the best model with just 1 variable\n",
    "for i in range(1, (len(X.columns)) + 1):\n",
    "    models_bestsub.loc[i] = bestModel(y, X, i)\n",
    "    models_bestsub.loc[i, 'var_count'] = i\n",
    "\n",
    "# Calculates sigma squared (estimated variance) for each model\n",
    "m = len(y)\n",
    "p = 10\n",
    "hat_sigma_squared = (1 / (m - p - 1)) * models_bestsub['RSS'].iloc[len(models_bestsub) - 1]\n",
    "\n",
    "# Manually calculates mallow's cp, BIC, and adjusted R squared\n",
    "models_bestsub['C_p'] = (1 / m) * (\n",
    "            models_bestsub['var_count'].map(lambda x: (2 * x * hat_sigma_squared)) + models_bestsub['RSS'])\n",
    "models_bestsub['BIC'] = (\n",
    "            models_bestsub['RSS'] + np.log(m) * models_bestsub['var_count'].map(lambda x: x * hat_sigma_squared)) \\\n",
    "    .map(lambda x: x / (m * hat_sigma_squared))\n",
    "models_bestsub['adj_R^2'] = 1 - ((1 - models_bestsub['R^2']) * (m - 1) / (m - models_bestsub['var_count'] - 1))"
   ]
  },
  {
   "cell_type": "code",
   "execution_count": 53,
   "id": "0aecb968",
   "metadata": {},
   "outputs": [],
   "source": [
    "# Determines best model based on Mallow's Cp\n",
    "best_model_bestsub = models_bestsub.loc[models_bestsub['C_p'].astype('float64').idxmin(), \"Model\"]\n",
    "best_features_bestsub = models_bestsub.loc[models_bestsub['C_p'].astype('float64').idxmin(), \"Features\"]"
   ]
  },
  {
   "cell_type": "code",
   "execution_count": 54,
   "id": "47585f4d",
   "metadata": {},
   "outputs": [
    {
     "name": "stdout",
     "output_type": "stream",
     "text": [
      "('X1', 'XX3', 'X4', 'X6', 'X9')\n"
     ]
    }
   ],
   "source": [
    "#rename the outputs\n",
    "output_var = str(best_features_bestsub)\n",
    "temp = output_var.replace(\"2\", \"X2\")\n",
    "output = temp.replace(\"3\", \"X3\")\n",
    "print(output)"
   ]
  },
  {
   "cell_type": "code",
   "execution_count": 58,
   "id": "9e673796",
   "metadata": {},
   "outputs": [
    {
     "name": "stdout",
     "output_type": "stream",
     "text": [
      "The best subsets model has features ('X1', 'XX3', 'X4', 'X6', 'X9') based on Mallow's Cp with coefficients [[ 3.87366869  5.29314967  3.81461332 -0.68309236  0.01247022]]\n"
     ]
    }
   ],
   "source": [
    "#print the outputs\n",
    "print(\"The best subsets model has features \" + str(\n",
    "    output) + \" based on Mallow's Cp with coefficients \" + str(best_model_bestsub.coef_))"
   ]
  },
  {
   "cell_type": "markdown",
   "id": "87b92042",
   "metadata": {},
   "source": [
    "(d1) Repeat (c) using backward stepwise selection. How does your answer compare to the results in (c)?"
   ]
  },
  {
   "cell_type": "code",
   "execution_count": 59,
   "id": "6e139b58",
   "metadata": {},
   "outputs": [
    {
     "data": {
      "text/html": [
       "<div>\n",
       "<style scoped>\n",
       "    .dataframe tbody tr th:only-of-type {\n",
       "        vertical-align: middle;\n",
       "    }\n",
       "\n",
       "    .dataframe tbody tr th {\n",
       "        vertical-align: top;\n",
       "    }\n",
       "\n",
       "    .dataframe thead th {\n",
       "        text-align: right;\n",
       "    }\n",
       "</style>\n",
       "<table border=\"1\" class=\"dataframe\">\n",
       "  <thead>\n",
       "    <tr style=\"text-align: right;\">\n",
       "      <th></th>\n",
       "      <th>1</th>\n",
       "    </tr>\n",
       "  </thead>\n",
       "  <tbody>\n",
       "    <tr>\n",
       "      <th>0</th>\n",
       "      <td>-2.766747</td>\n",
       "    </tr>\n",
       "    <tr>\n",
       "      <th>1</th>\n",
       "      <td>2.871598</td>\n",
       "    </tr>\n",
       "    <tr>\n",
       "      <th>2</th>\n",
       "      <td>-10.039232</td>\n",
       "    </tr>\n",
       "    <tr>\n",
       "      <th>3</th>\n",
       "      <td>-4.961581</td>\n",
       "    </tr>\n",
       "    <tr>\n",
       "      <th>4</th>\n",
       "      <td>3.106835</td>\n",
       "    </tr>\n",
       "  </tbody>\n",
       "</table>\n",
       "</div>"
      ],
      "text/plain": [
       "           1\n",
       "0  -2.766747\n",
       "1   2.871598\n",
       "2 -10.039232\n",
       "3  -4.961581\n",
       "4   3.106835"
      ]
     },
     "execution_count": 59,
     "metadata": {},
     "output_type": "execute_result"
    }
   ],
   "source": [
    "#generate the same dataset we need in (c) as we set the same seeds\n",
    "np.random.seed(78691) #set seeds\n",
    "X = pd.DataFrame(np.random.normal(size=100), columns=[\"1\"])\n",
    "# Generate random errors from standard normal\n",
    "epsilon = pd.DataFrame(np.random.normal(size=100, scale=5), columns=[\"1\"])\n",
    "epsilon.head(5)"
   ]
  },
  {
   "cell_type": "code",
   "execution_count": 60,
   "id": "15c7b3c4",
   "metadata": {},
   "outputs": [],
   "source": [
    "y = X.applymap(lambda x: (5 + 5 * x + 5 * (x ** 2) + 5 * (x ** 3)))  # Transforms X to y using an inline function\n",
    "y = y + epsilon"
   ]
  },
  {
   "cell_type": "code",
   "execution_count": 61,
   "id": "3460eaa0",
   "metadata": {},
   "outputs": [],
   "source": [
    "# Adds columns to X (data frame): X^2, X^3, ..., X^10\n",
    "for i in range(2, 11):\n",
    "    X.insert(loc=i - 1, column=str(i), value=X.iloc[:, 0] ** i)\n",
    "#need to rename the column names of X first\n",
    "dict = {'1': 'X1',\n",
    "        '2': 'X2',\n",
    "        '3': 'X3',\n",
    "        '4': 'X4',\n",
    "        '5': 'X5',\n",
    "        '6': 'X6',\n",
    "        '7': 'X7',\n",
    "        '8': 'X8',\n",
    "        '9': 'X9',\n",
    "        '10': 'X10',}\n",
    " \n",
    "# call rename () method\n",
    "X.rename(columns=dict,\n",
    "          inplace=True)"
   ]
  },
  {
   "cell_type": "code",
   "execution_count": 62,
   "id": "ea41d0b3",
   "metadata": {},
   "outputs": [
    {
     "name": "stdout",
     "output_type": "stream",
     "text": [
      "          X1        X2        X3        X4        X5        X6        X7  \\\n",
      "0   1.339657  1.794682  2.404259  3.220884  4.314881  5.780462  7.743839   \n",
      "1  -0.414241  0.171596 -0.071082  0.029445 -0.012197  0.005053 -0.002093   \n",
      "2   0.422309  0.178344  0.075316  0.031807  0.013432  0.005673  0.002396   \n",
      "3   1.345551  1.810508  2.436131  3.277940  4.410636  5.934737  7.985492   \n",
      "4   0.303994  0.092412  0.028093  0.008540  0.002596  0.000789  0.000240   \n",
      "..       ...       ...       ...       ...       ...       ...       ...   \n",
      "95 -0.764707  0.584777 -0.447183  0.341964 -0.261502  0.199973 -0.152920   \n",
      "96  0.269262  0.072502  0.019522  0.005257  0.001415  0.000381  0.000103   \n",
      "97 -0.262734  0.069029 -0.018136  0.004765 -0.001252  0.000329 -0.000086   \n",
      "98 -0.247465  0.061239 -0.015155  0.003750 -0.000928  0.000230 -0.000057   \n",
      "99  0.258374  0.066757  0.017248  0.004457  0.001151  0.000298  0.000077   \n",
      "\n",
      "           X8         X9           X10  \n",
      "0   10.374092  13.897729  1.861820e+01  \n",
      "1    0.000867  -0.000359  1.487763e-04  \n",
      "2    0.001012   0.000427  1.804257e-04  \n",
      "3   10.744889  14.457799  1.945371e+01  \n",
      "4    0.000073   0.000022  6.739795e-06  \n",
      "..        ...        ...           ...  \n",
      "95   0.116939  -0.089424  6.838342e-02  \n",
      "96   0.000028   0.000007  2.003294e-06  \n",
      "97   0.000023  -0.000006  1.567364e-06  \n",
      "98   0.000014  -0.000003  8.612831e-07  \n",
      "99   0.000020   0.000005  1.325840e-06  \n",
      "\n",
      "[100 rows x 10 columns]\n"
     ]
    }
   ],
   "source": [
    "print(X)"
   ]
  },
  {
   "cell_type": "code",
   "execution_count": 63,
   "id": "8a34c3ba",
   "metadata": {},
   "outputs": [],
   "source": [
    "# Performs backward stepwise regression and stores results from each step in a dataframe\n",
    "models_backward = backward_stepwise(y, X)"
   ]
  },
  {
   "cell_type": "code",
   "execution_count": 64,
   "id": "2302a8c9",
   "metadata": {},
   "outputs": [],
   "source": [
    "# Adds column to models dataframe indicating number of variables in each model\n",
    "models_backward['var_count'] = range(1, 11)\n",
    "# Manually calculates Cp, BIC, and adjusted R squared and adds each as a column to the models dataframe\n",
    "models_backward['C_p'] = (1 / m) * (\n",
    "            models_backward['var_count'].map(lambda x: (2 * x * hat_sigma_squared)) + models_backward['RSS'])\n",
    "models_backward['BIC'] = (\n",
    "            models_backward['RSS'] + np.log(m) * models_backward['var_count'].map(lambda x: x * hat_sigma_squared)) \\\n",
    "    .map(lambda x: x / (m * hat_sigma_squared))\n",
    "models_backward['adj_R^2'] = 1 - ((1 - models_backward['R^2']) * (m - 1) / (m - models_backward['var_count'] - 1))"
   ]
  },
  {
   "cell_type": "code",
   "execution_count": 65,
   "id": "8899c986",
   "metadata": {},
   "outputs": [],
   "source": [
    "# Determines best model based on Mallow's Cp\n",
    "best_model_backward = models_backward.loc[models_backward['C_p'].astype('float64').idxmin(), \"Model\"]\n",
    "best_features_backward = models_backward.loc[models_backward['C_p'].astype('float64').idxmin(), \"Features\"]"
   ]
  },
  {
   "cell_type": "code",
   "execution_count": 66,
   "id": "f6932815",
   "metadata": {},
   "outputs": [
    {
     "name": "stdout",
     "output_type": "stream",
     "text": [
      "['X1' 'X2' 'X3']\n",
      "['X1' 'XX2' 'XX3']\n"
     ]
    }
   ],
   "source": [
    "#rename the outputs\n",
    "output_var = str(best_features_backward)\n",
    "print(output_var)\n",
    "temp = output_var.replace(\"2\", \"X2\")\n",
    "output = temp.replace(\"3\", \"X3\")\n",
    "print(output)"
   ]
  },
  {
   "cell_type": "code",
   "execution_count": 67,
   "id": "c6749915",
   "metadata": {},
   "outputs": [
    {
     "name": "stdout",
     "output_type": "stream",
     "text": [
      "The backward stepwise model has features ['X1' 'XX2' 'XX3'] based on Mallow's Cp with coefficients [[5.84127514 4.43649372 4.7826633 ]]\n"
     ]
    }
   ],
   "source": [
    "##print the outputs\n",
    "print(\"The backward stepwise model has features \" + str(\n",
    "    output) + \" based on Mallow's Cp with coefficients \" + str(best_model_backward.coef_))"
   ]
  },
  {
   "cell_type": "markdown",
   "id": "08cfe6ab",
   "metadata": {},
   "source": [
    "(d2) Repeat (c) using forward stepwise selection. How does your answer compare to the results in (c)?"
   ]
  },
  {
   "cell_type": "code",
   "execution_count": 68,
   "id": "bfe74701",
   "metadata": {},
   "outputs": [
    {
     "data": {
      "text/html": [
       "<div>\n",
       "<style scoped>\n",
       "    .dataframe tbody tr th:only-of-type {\n",
       "        vertical-align: middle;\n",
       "    }\n",
       "\n",
       "    .dataframe tbody tr th {\n",
       "        vertical-align: top;\n",
       "    }\n",
       "\n",
       "    .dataframe thead th {\n",
       "        text-align: right;\n",
       "    }\n",
       "</style>\n",
       "<table border=\"1\" class=\"dataframe\">\n",
       "  <thead>\n",
       "    <tr style=\"text-align: right;\">\n",
       "      <th></th>\n",
       "      <th>1</th>\n",
       "    </tr>\n",
       "  </thead>\n",
       "  <tbody>\n",
       "    <tr>\n",
       "      <th>0</th>\n",
       "      <td>-2.766747</td>\n",
       "    </tr>\n",
       "    <tr>\n",
       "      <th>1</th>\n",
       "      <td>2.871598</td>\n",
       "    </tr>\n",
       "    <tr>\n",
       "      <th>2</th>\n",
       "      <td>-10.039232</td>\n",
       "    </tr>\n",
       "    <tr>\n",
       "      <th>3</th>\n",
       "      <td>-4.961581</td>\n",
       "    </tr>\n",
       "    <tr>\n",
       "      <th>4</th>\n",
       "      <td>3.106835</td>\n",
       "    </tr>\n",
       "  </tbody>\n",
       "</table>\n",
       "</div>"
      ],
      "text/plain": [
       "           1\n",
       "0  -2.766747\n",
       "1   2.871598\n",
       "2 -10.039232\n",
       "3  -4.961581\n",
       "4   3.106835"
      ]
     },
     "execution_count": 68,
     "metadata": {},
     "output_type": "execute_result"
    }
   ],
   "source": [
    "#generate the same dataset we need in (c) as we set the same seeds\n",
    "np.random.seed(78691) #set seeds\n",
    "X = pd.DataFrame(np.random.normal(size=100), columns=[\"1\"])\n",
    "# Generate random errors from standard normal\n",
    "epsilon = pd.DataFrame(np.random.normal(size=100, scale=5), columns=[\"1\"])\n",
    "epsilon.head(5)"
   ]
  },
  {
   "cell_type": "code",
   "execution_count": 69,
   "id": "2a3df1ce",
   "metadata": {},
   "outputs": [],
   "source": [
    "y = X.applymap(lambda x: (5 + 5 * x + 5 * (x ** 2) + 5 * (x ** 3)))  # Transforms X to y using an inline function\n",
    "y = y + epsilon"
   ]
  },
  {
   "cell_type": "code",
   "execution_count": 70,
   "id": "5dfd2485",
   "metadata": {},
   "outputs": [],
   "source": [
    "# Adds columns to X (data frame): X^2, X^3, ..., X^10\n",
    "for i in range(2, 11):\n",
    "    X.insert(loc=i - 1, column=str(i), value=X.iloc[:, 0] ** i)\n",
    "#need to rename the column names of X first\n",
    "dict = {'1': 'X1',\n",
    "        '2': 'X2',\n",
    "        '3': 'X3',\n",
    "        '4': 'X4',\n",
    "        '5': 'X5',\n",
    "        '6': 'X6',\n",
    "        '7': 'X7',\n",
    "        '8': 'X8',\n",
    "        '9': 'X9',\n",
    "        '10': 'X10',}\n",
    " \n",
    "# call rename () method\n",
    "X.rename(columns=dict,\n",
    "          inplace=True)"
   ]
  },
  {
   "cell_type": "code",
   "execution_count": 71,
   "id": "5b6cdf4d",
   "metadata": {},
   "outputs": [
    {
     "name": "stdout",
     "output_type": "stream",
     "text": [
      "          X1        X2        X3        X4        X5        X6        X7  \\\n",
      "0   1.339657  1.794682  2.404259  3.220884  4.314881  5.780462  7.743839   \n",
      "1  -0.414241  0.171596 -0.071082  0.029445 -0.012197  0.005053 -0.002093   \n",
      "2   0.422309  0.178344  0.075316  0.031807  0.013432  0.005673  0.002396   \n",
      "3   1.345551  1.810508  2.436131  3.277940  4.410636  5.934737  7.985492   \n",
      "4   0.303994  0.092412  0.028093  0.008540  0.002596  0.000789  0.000240   \n",
      "..       ...       ...       ...       ...       ...       ...       ...   \n",
      "95 -0.764707  0.584777 -0.447183  0.341964 -0.261502  0.199973 -0.152920   \n",
      "96  0.269262  0.072502  0.019522  0.005257  0.001415  0.000381  0.000103   \n",
      "97 -0.262734  0.069029 -0.018136  0.004765 -0.001252  0.000329 -0.000086   \n",
      "98 -0.247465  0.061239 -0.015155  0.003750 -0.000928  0.000230 -0.000057   \n",
      "99  0.258374  0.066757  0.017248  0.004457  0.001151  0.000298  0.000077   \n",
      "\n",
      "           X8         X9           X10  \n",
      "0   10.374092  13.897729  1.861820e+01  \n",
      "1    0.000867  -0.000359  1.487763e-04  \n",
      "2    0.001012   0.000427  1.804257e-04  \n",
      "3   10.744889  14.457799  1.945371e+01  \n",
      "4    0.000073   0.000022  6.739795e-06  \n",
      "..        ...        ...           ...  \n",
      "95   0.116939  -0.089424  6.838342e-02  \n",
      "96   0.000028   0.000007  2.003294e-06  \n",
      "97   0.000023  -0.000006  1.567364e-06  \n",
      "98   0.000014  -0.000003  8.612831e-07  \n",
      "99   0.000020   0.000005  1.325840e-06  \n",
      "\n",
      "[100 rows x 10 columns]\n"
     ]
    }
   ],
   "source": [
    "print(X)"
   ]
  },
  {
   "cell_type": "code",
   "execution_count": 72,
   "id": "064e90b2",
   "metadata": {},
   "outputs": [],
   "source": [
    "# Performs backward stepwise regression and stores results from each step in a dataframe\n",
    "models_forward = forward_stepwise(y, X)"
   ]
  },
  {
   "cell_type": "code",
   "execution_count": 73,
   "id": "51c2bfdf",
   "metadata": {},
   "outputs": [],
   "source": [
    "# Adds column to models dataframe indicating number of variables in each model\n",
    "models_forward['var_count'] = range(1, 11)\n",
    "# Manually calculates Cp, BIC, and adjusted R squared and adds each as a column to the models dataframe\n",
    "models_forward['C_p'] = (1 / m) * (\n",
    "            models_forward['var_count'].map(lambda x: (2 * x * hat_sigma_squared)) + models_backward['RSS'])\n",
    "models_forward['BIC'] = (\n",
    "            models_forward['RSS'] + np.log(m) * models_forward['var_count'].map(lambda x: x * hat_sigma_squared)) \\\n",
    "    .map(lambda x: x / (m * hat_sigma_squared))\n",
    "models_forward['adj_R^2'] = 1 - ((1 - models_forward['R^2']) * (m - 1) / (m - models_forward['var_count'] - 1))"
   ]
  },
  {
   "cell_type": "code",
   "execution_count": 74,
   "id": "c46ed633",
   "metadata": {},
   "outputs": [],
   "source": [
    "# Determines best model based on Mallow's Cp\n",
    "best_model_forward = models_forward.loc[models_forward['C_p'].astype('float64').idxmin(), \"Model\"]\n",
    "best_features_forward = models_forward.loc[models_forward['C_p'].astype('float64').idxmin(), \"Features\"]"
   ]
  },
  {
   "cell_type": "code",
   "execution_count": 75,
   "id": "90713ff6",
   "metadata": {},
   "outputs": [
    {
     "name": "stdout",
     "output_type": "stream",
     "text": [
      "['X3', 'X2', 'X1']\n",
      "['XX3', 'XX2', 'X1']\n"
     ]
    }
   ],
   "source": [
    "#rename the outputs\n",
    "output_var = str(best_features_forward)\n",
    "print(output_var)\n",
    "temp = output_var.replace(\"2\", \"X2\")\n",
    "output = temp.replace(\"3\", \"X3\")\n",
    "print(output)"
   ]
  },
  {
   "cell_type": "code",
   "execution_count": 77,
   "id": "1a93c197",
   "metadata": {},
   "outputs": [],
   "source": [
    "# Determines best model based on Mallow's Cp\n",
    "best_model_forward = models_forward.loc[models_forward['C_p'].astype('float64').idxmin(), \"Model\"]\n",
    "best_features_forward = models_forward.loc[models_forward['C_p'].astype('float64').idxmin(), \"Features\"]"
   ]
  },
  {
   "cell_type": "code",
   "execution_count": 78,
   "id": "c9a2d622",
   "metadata": {},
   "outputs": [
    {
     "name": "stdout",
     "output_type": "stream",
     "text": [
      "The forward stepwise model has features ['XX3', 'XX2', 'X1'] based on Mallow's Cp with coefficients [[4.7826633  4.43649372 5.84127514]]\n"
     ]
    }
   ],
   "source": [
    "##print the outputs\n",
    "print(\"The forward stepwise model has features \" + str(\n",
    "    output) + \" based on Mallow's Cp with coefficients \" + str(best_model_forward.coef_))"
   ]
  },
  {
   "cell_type": "markdown",
   "id": "1968f4eb",
   "metadata": {},
   "source": [
    "(e) Now fit a Lasso model to the simulated data, again using $X$, $X^2$ $\\dots$ $X^{10}$ as predictors. Use cross-validation to select the optimal value of $\\lambda$. Create plots of the cross-validation error as a function of $\\lambda$. Report the resulting coefficient estimates, and discuss the results obtained."
   ]
  },
  {
   "cell_type": "code",
   "execution_count": 26,
   "id": "8d5e89e2",
   "metadata": {},
   "outputs": [],
   "source": [
    "# Redefine Lasso function from linear_model package as \"lasso\" for easier use\n",
    "lasso = linear_model.Lasso(max_iter=10000)"
   ]
  },
  {
   "cell_type": "code",
   "execution_count": 27,
   "id": "12a6da9e",
   "metadata": {},
   "outputs": [],
   "source": [
    "# Defines a grid of lambdas (penalty terms) from which we'll select an optimal value\n",
    "lambdas = 10 ** np.linspace(-2, 3, 100)"
   ]
  },
  {
   "cell_type": "code",
   "execution_count": 28,
   "id": "df1c1b04",
   "metadata": {},
   "outputs": [],
   "source": [
    "# Function to split data into training and test sets\n",
    "# Only makes one split, need to use this function k times to get all k splits\n",
    "# dataset = dataset you want to split into training and test sets\n",
    "# k = number of folds for k-fold CV\n",
    "# index = the iteration of splitting currently being done\n",
    "# ie: if performing 10-fold CV, first split corresponds to index = 1,last split corresponds to index = 10\n",
    "def KFCVSplit(dataset, k, index):\n",
    "    assert (0 <= index and index < k)\n",
    "    firstSplitIndex = int(len(dataset) * index / k)\n",
    "    secondSplitIndex = int(len(dataset) * (index + 1) / k)\n",
    "    trainSet = dataset.drop(range(firstSplitIndex, secondSplitIndex))\n",
    "    testSet = dataset.iloc[firstSplitIndex:secondSplitIndex]\n",
    "    return trainSet.reset_index(drop=True), testSet.reset_index(drop=True)"
   ]
  },
  {
   "cell_type": "code",
   "execution_count": 29,
   "id": "ec7a1e49",
   "metadata": {},
   "outputs": [
    {
     "name": "stdout",
     "output_type": "stream",
     "text": [
      "              0\n",
      "0     82.611257\n",
      "1     81.636881\n",
      "2     80.448266\n",
      "3     79.154827\n",
      "4     77.765169\n",
      "..          ...\n",
      "95  1553.356060\n",
      "96  1509.498763\n",
      "97  1463.850773\n",
      "98  1417.008073\n",
      "99  1369.958005\n",
      "\n",
      "[100 rows x 1 columns]\n"
     ]
    }
   ],
   "source": [
    "# Constructs empty list in preparation for future MSE values\n",
    "MSE = []\n",
    "\n",
    "# This loop performs Lasso with cross-validation for each lambda in our grid defined above\n",
    "for l in lambdas:\n",
    "    # Note: The linear_model.Lasso function calls penalty term lambda \"alpha\"\n",
    "    # We call the penalty term \"lambda\" in the slides and when we defines the grid above.\n",
    "    lasso.set_params(alpha=l)\n",
    "    currentLambdaMSE = []\n",
    "    # This loop splits the data into training and test sets\n",
    "    # Each iteration performs one split of 10-fold CV\n",
    "    # currentLambdaMSE stores the MSE for each split for the current lambda\n",
    "    for i in range(10):\n",
    "        _X_train, _X_test = KFCVSplit(X, 10, i)\n",
    "        _y_train, _y_test = KFCVSplit(y, 10, i)\n",
    "        lasso.fit(_X_train, _y_train)\n",
    "        currentLambdaMSE.append(mean_squared_error(lasso.predict(_X_test), _y_test))\n",
    "    # Average the MSEs for each split\n",
    "    MSE.append(np.mean(currentLambdaMSE))\n",
    "\n",
    "MSEDF = pd.DataFrame(MSE)\n",
    "print(MSEDF)"
   ]
  },
  {
   "cell_type": "code",
   "execution_count": 30,
   "id": "0e1736f3",
   "metadata": {},
   "outputs": [
    {
     "name": "stdout",
     "output_type": "stream",
     "text": [
      "Lasso parameters (in order of ascending power of X): [ 6.15328299  1.11076814  2.44368766  1.22148562  1.15349922 -0.03353761\n",
      " -0.09842299 -0.04326817 -0.00863505  0.00687234]\n"
     ]
    }
   ],
   "source": [
    "# Determines the lambda which produced the smallest average MSE - this is the optimal lambda\n",
    "minLambda = lambdas[MSEDF.idxmin()][0]\n",
    "\n",
    "# Sets penalty term to the optimal lambda and performs lasso on the entire dataset\n",
    "lasso.set_params(alpha=minLambda)\n",
    "lasso.fit(X, y)\n",
    "#print the outputs\n",
    "print(\"Lasso parameters (in order of ascending power of X): \" + str(lasso.coef_))"
   ]
  },
  {
   "cell_type": "code",
   "execution_count": 31,
   "id": "d101a2bf",
   "metadata": {},
   "outputs": [
    {
     "data": {
      "text/plain": [
       "Text(0, 0.5, 'Cross-validated MSE')"
      ]
     },
     "execution_count": 31,
     "metadata": {},
     "output_type": "execute_result"
    },
    {
     "data": {
      "image/png": "[encoded data removed]",
      "text/plain": [
       "<Figure size 640x480 with 1 Axes>"
      ]
     },
     "metadata": {},
     "output_type": "display_data"
    }
   ],
   "source": [
    "#visulization\n",
    "# Creates and saves plot of cross-validated MSE by lambda to show the optimal lambda\n",
    "plt.clf()\n",
    "plt.plot(lambdas, MSE)\n",
    "plt.xscale('log')\n",
    "plt.yscale('log')\n",
    "plt.axis('tight')\n",
    "plt.xlabel('lambda')\n",
    "plt.ylabel('Cross-validated MSE')"
   ]
  },
  {
   "cell_type": "markdown",
   "id": "ad1517c4",
   "metadata": {},
   "source": [
    "(f) Now generate a response vector Y according to the model $$Y=\\beta_{0} + \\beta_{7}X^{7} + \\epsilon$$ and perform forward stepwise selection and the lasso."
   ]
  },
  {
   "cell_type": "code",
   "execution_count": 32,
   "id": "aad741f5",
   "metadata": {},
   "outputs": [
    {
     "name": "stdout",
     "output_type": "stream",
     "text": [
      "0     40.952449\n",
      "1      7.861133\n",
      "2     -5.027254\n",
      "3     39.965880\n",
      "4      8.108034\n",
      "        ...    \n",
      "95     1.937749\n",
      "96     7.268599\n",
      "97     1.382275\n",
      "98     0.674328\n",
      "99     7.506701\n",
      "Length: 100, dtype: float64\n"
     ]
    }
   ],
   "source": [
    "# Generating response vector y as specified in Exercise 8(f)\n",
    "y = X['X1'].map(lambda x: (5 + 5 * (x ** 7)))  # transforms X to y using an inline function\n",
    "y = y + epsilon['1']  # Adds normally distributed noise (error term)\n",
    "print(y)"
   ]
  },
  {
   "cell_type": "code",
   "execution_count": 33,
   "id": "0b6652e7",
   "metadata": {},
   "outputs": [],
   "source": [
    "# Constructs empty data frame with just column headers\n",
    "models_bestsub_f = pd.DataFrame(columns=[\"RSS\", \"Model\", \"var_count\", \"R^2\", \"Features\"])\n",
    "\n",
    "# Performs best subset selection\n",
    "for i in range(1, (len(X.columns)) + 1):\n",
    "    models_bestsub_f.loc[i] = bestModel(y, X, i)\n",
    "    models_bestsub_f.loc[i, 'var_count'] = i\n",
    "\n",
    "# Calculates sigma squared (estimated variance) for each model\n",
    "m = len(y)\n",
    "p = 10\n",
    "hat_sigma_squared = (1 / (m - p - 1)) * models_bestsub_f['RSS'].iloc[len(models_bestsub_f) - 1]"
   ]
  },
  {
   "cell_type": "code",
   "execution_count": 34,
   "id": "d07db3e9",
   "metadata": {},
   "outputs": [],
   "source": [
    "# Manually calculates Cp, BIC, and adjusted R squared and adds each as a column to the models dataframe\n",
    "models_bestsub_f['C_p'] = (1 / m) * (models_bestsub_f['var_count'].map(lambda x: (2 * x * hat_sigma_squared)) + models_bestsub_f['RSS'])\n",
    "models_bestsub_f['BIC'] = (models_bestsub_f['RSS'] + np.log(m) * models_bestsub_f['var_count'].map(lambda x: x * hat_sigma_squared)) \\\n",
    "    .map(lambda x: x / (m * hat_sigma_squared))\n",
    "models_bestsub_f['adj_R^2'] = 1 - ((1 - models_bestsub_f['R^2']) * (m - 1) / (m - models_bestsub_f['var_count'] - 1))"
   ]
  },
  {
   "cell_type": "code",
   "execution_count": 35,
   "id": "420a022e",
   "metadata": {},
   "outputs": [
    {
     "data": {
      "image/png": "[encoded data removed]",
      "text/plain": [
       "<Figure size 640x480 with 1 Axes>"
      ]
     },
     "metadata": {},
     "output_type": "display_data"
    }
   ],
   "source": [
    "# Creates and saves plots of number of variables by each metric (Cp, BIC, adj R2)\n",
    "# Note: Scale on y-axis for adjusted R squared plot is incorrect\n",
    "for response in ['C_p', 'BIC', 'adj_R^2']:\n",
    "    plt.clf()\n",
    "    plt.plot(models_bestsub_f['var_count'], models_bestsub_f[response])\n",
    "    plt.xlabel('Number of Variables')\n",
    "    plt.ylabel(response)"
   ]
  },
  {
   "cell_type": "code",
   "execution_count": 36,
   "id": "9b6eab01",
   "metadata": {},
   "outputs": [],
   "source": [
    "# Selects best model based on Mallow's Cp\n",
    "best_model_bestsub_f = models_bestsub_f.loc[models_bestsub_f['C_p'].astype('float64').idxmin(), \"Model\"]\n",
    "best_features_bestsub_f = models_bestsub_f.loc[models_bestsub_f['C_p'].astype('float64').idxmin(), \"Features\"]"
   ]
  },
  {
   "cell_type": "code",
   "execution_count": 37,
   "id": "ee898140",
   "metadata": {},
   "outputs": [
    {
     "name": "stdout",
     "output_type": "stream",
     "text": [
      "('X7',)\n",
      "('XX7',)\n"
     ]
    }
   ],
   "source": [
    "#rename the outputs\n",
    "output_var = str(best_features_bestsub_f)\n",
    "print(output_var)\n",
    "output = output_var.replace(\"7\", \"X7\")\n",
    "print(output)"
   ]
  },
  {
   "cell_type": "code",
   "execution_count": 38,
   "id": "6271cd1b",
   "metadata": {},
   "outputs": [
    {
     "name": "stdout",
     "output_type": "stream",
     "text": [
      "The best subset model has features ('XX7',) based on Mallow's Cp with coefficients [4.99529746]\n"
     ]
    }
   ],
   "source": [
    "#print the outputs\n",
    "print(\"The best subset model has features \" + str(output) + \" based on Mallow's Cp with coefficients \" + str(best_model_bestsub_f.coef_))"
   ]
  },
  {
   "cell_type": "code",
   "execution_count": 39,
   "id": "8ecaf30a",
   "metadata": {},
   "outputs": [
    {
     "name": "stdout",
     "output_type": "stream",
     "text": [
      "Lasso parameters (in order of ascending power of X): [-0.          0.         -3.01863274 -4.91302626  4.69717681  2.17521899\n",
      "  3.20595875 -0.1290347   0.20004706 -0.02399016]\n"
     ]
    }
   ],
   "source": [
    "# Constructs empty list in preparation for future MSE values\n",
    "MSE = []\n",
    "\n",
    "# This loop performs Lasso with cross-validation for each lambda in our grid defined above\n",
    "for l in lambdas:\n",
    "    lasso.set_params(alpha=l)\n",
    "    currentLambdaMSE = []\n",
    "    for i in range(10):\n",
    "        _X_train, _X_test = KFCVSplit(X, 10, i)\n",
    "        _y_train, _y_test = KFCVSplit(y, 10, i)\n",
    "        lasso.fit(_X_train, _y_train)\n",
    "        currentLambdaMSE.append(mean_squared_error(lasso.predict(_X_test), _y_test))\n",
    "    MSE.append(np.mean(currentLambdaMSE))\n",
    "\n",
    "MSEDF = pd.DataFrame(MSE)\n",
    "\n",
    "# Determines the lambda which produced the smallest average MSE - this is the optimal lambda\n",
    "minLambda = lambdas[MSEDF.idxmin()][0]\n",
    "\n",
    "# Sets penalty term to the optimal lambda and performs lasso on the entire dataset\n",
    "lasso.set_params(alpha=minLambda)\n",
    "lasso.fit(X, y)\n",
    "print(\"Lasso parameters (in order of ascending power of X): \" + str(lasso.coef_))"
   ]
  },
  {
   "cell_type": "code",
   "execution_count": 40,
   "id": "7dcd9b5a",
   "metadata": {},
   "outputs": [
    {
     "data": {
      "text/plain": [
       "Text(0, 0.5, 'Cross-validated MSE')"
      ]
     },
     "execution_count": 40,
     "metadata": {},
     "output_type": "execute_result"
    },
    {
     "data": {
      "image/png": "[encoded data removed]",
      "text/plain": [
       "<Figure size 640x480 with 1 Axes>"
      ]
     },
     "metadata": {},
     "output_type": "display_data"
    }
   ],
   "source": [
    "#Visualization\n",
    "plt.clf()\n",
    "plt.plot(lambdas, MSE)\n",
    "plt.xscale('log')\n",
    "plt.yscale('log')\n",
    "plt.axis('tight')\n",
    "plt.xlabel('lambda')\n",
    "plt.ylabel('Cross-validated MSE')"
   ]
  },
  {
   "cell_type": "code",
   "execution_count": null,
   "id": "d0cc94ac",
   "metadata": {},
   "outputs": [],
   "source": []
  }
 ],
 "metadata": {
  "kernelspec": {
   "display_name": "math",
   "language": "python",
   "name": "python3"
  },
  "language_info": {
   "codemirror_mode": {
    "name": "ipython",
    "version": 3
   },
   "file_extension": ".py",
   "mimetype": "text/x-python",
   "name": "python",
   "nbconvert_exporter": "python",
   "pygments_lexer": "ipython3",
   "version": "3.11.9"
  }
 },
 "nbformat": 4,
 "nbformat_minor": 5
}
